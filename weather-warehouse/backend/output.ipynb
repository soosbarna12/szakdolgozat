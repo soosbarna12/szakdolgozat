{
 "cells": [
  {
   "cell_type": "code",
   "execution_count": 1,
   "id": "2a7c8d22",
   "metadata": {
    "editable": true,
    "execution": {
     "iopub.execute_input": "2025-05-07T15:44:27.983205Z",
     "iopub.status.busy": "2025-05-07T15:44:27.983205Z",
     "iopub.status.idle": "2025-05-07T15:44:34.670145Z",
     "shell.execute_reply": "2025-05-07T15:44:34.670145Z"
    },
    "papermill": {
     "duration": 6.689981,
     "end_time": "2025-05-07T15:44:34.671185",
     "exception": false,
     "start_time": "2025-05-07T15:44:27.981204",
     "status": "completed"
    },
    "slideshow": {
     "slide_type": ""
    },
    "tags": [
     "parameters"
    ]
   },
   "outputs": [
    {
     "name": "stdout",
     "output_type": "stream",
     "text": [
      "Location: default_location, Date: 2025-05-07\n"
     ]
    }
   ],
   "source": [
    "# Parameters\n",
    "location = \"default_location\"\n",
    "date = \"2025-05-07\"  # This will be overridden by papermill\n",
    "\n",
    "# Ensure the date is in YYYY-MM-DD format\n",
    "from datetime import datetime\n",
    "date = datetime.today().strftime('%Y-%m-%d')  # Dynamically get today's date in YYYY-MM-DD format\n",
    "\n",
    "print(f\"Location: {location}, Date: {date}\")\n",
    "\n",
    "# Imports\n",
    "import pandas as pd\n",
    "import os\n",
    "import numpy as np\n",
    "from tensorflow.keras.models import Sequential\n",
    "from tensorflow.keras.layers import LSTM, Dense, Dropout\n",
    "from sklearn.preprocessing import MinMaxScaler\n",
    "\n",
    "# # Step 1: Query historical data (simulate here)\n",
    "# def useHistoricalDataQuery(location, date):\n",
    "#     # Replace this with actual database query\n",
    "#     dates = pd.date_range(end=date, periods=365)\n",
    "#     temps = np.sin(np.linspace(0, 10, 365)) * 10 + 20 + np.random.randn(365)\n",
    "#     df = pd.DataFrame({'date': dates, 'temperature': temps})\n",
    "#     df.set_index('date', inplace=True)\n",
    "#     return df\n",
    "\n",
    "# # Load data\n",
    "# data = useHistoricalDataQuery(location, date)\n",
    "\n",
    "# # Step 2: Preprocess data\n",
    "# scaler = MinMaxScaler()\n",
    "# scaled_data = scaler.fit_transform(data[['temperature']])\n",
    "\n",
    "# # Prepare sequences\n",
    "# def create_sequences(data, seq_length):\n",
    "#     x, y = [], []\n",
    "#     for i in range(len(data) - seq_length):\n",
    "#         x.append(data[i:i+seq_length])\n",
    "#         y.append(data[i+seq_length])\n",
    "#     return np.array(x), np.array(y)\n",
    "\n",
    "# seq_length = 30\n",
    "# x, y = create_sequences(scaled_data, seq_length)\n",
    "\n",
    "# # Reshape for LSTM\n",
    "# x = x.reshape((x.shape[0], x.shape[1], 1))\n",
    "\n",
    "# # Step 3: Build LSTM model\n",
    "# model = Sequential()\n",
    "# model.add(LSTM(50, return_sequences=False, input_shape=(seq_length, 1)))\n",
    "# model.add(Dropout(0.2))\n",
    "# model.add(Dense(1))\n",
    "# model.compile(optimizer='adam', loss='mse')\n",
    "\n",
    "# # Step 4: Train model\n",
    "# model.fit(x, y, epochs=10, batch_size=16, verbose=1)\n",
    "\n",
    "# # Step 5: Predict next 7 days\n",
    "# last_seq = scaled_data[-seq_length:]\n",
    "# forecast = []\n",
    "# input_seq = last_seq.copy()\n",
    "\n",
    "# for _ in range(7):\n",
    "#     pred = model.predict(input_seq.reshape(1, seq_length, 1))\n",
    "#     forecast.append(pred[0, 0])\n",
    "#     input_seq = np.append(input_seq[1:], pred).reshape(seq_length, 1)\n",
    "\n",
    "# # Inverse scale\n",
    "# forecast = scaler.inverse_transform(np.array(forecast).reshape(-1, 1)).flatten()\n",
    "\n",
    "# # Step 6: Plot forecast\n",
    "# forecast_dates = pd.date_range(start=pd.to_datetime(date) + pd.Timedelta(days=1), periods=7)\n",
    "\n",
    "# plt.figure(figsize=(10, 5))\n",
    "# plt.plot(data.index[-60:], data['temperature'][-60:], label='Historical')\n",
    "# plt.plot(forecast_dates, forecast, label='Forecast', marker='o')\n",
    "# plt.xlabel('Date')\n",
    "# plt.ylabel('Temperature')\n",
    "# plt.title(f'7-Day Weather Forecast for {location}')\n",
    "# plt.legend()\n",
    "# plt.grid(True)\n",
    "# plt.show()\n",
    "\n",
    "# # Output forecast values\n",
    "# print('Forecast for next 7 days:')\n",
    "# for d, f in zip(forecast_dates, forecast):\n",
    "#     print(f\"{d.date()}: {f:.2f}°C\")"
   ]
  },
  {
   "cell_type": "code",
   "execution_count": 2,
   "id": "d990e932",
   "metadata": {
    "execution": {
     "iopub.execute_input": "2025-05-07T15:44:34.674187Z",
     "iopub.status.busy": "2025-05-07T15:44:34.674187Z",
     "iopub.status.idle": "2025-05-07T15:44:34.686720Z",
     "shell.execute_reply": "2025-05-07T15:44:34.685721Z"
    },
    "papermill": {
     "duration": 0.014533,
     "end_time": "2025-05-07T15:44:34.687720",
     "exception": false,
     "start_time": "2025-05-07T15:44:34.673187",
     "status": "completed"
    },
    "tags": [
     "injected-parameters"
    ]
   },
   "outputs": [],
   "source": [
    "# Parameters\n",
    "location = \"New York\"\n",
    "date = \"2025-05-07\"\n"
   ]
  }
 ],
 "metadata": {
  "kernelspec": {
   "display_name": "Python 3",
   "language": "python",
   "name": "python3"
  },
  "language_info": {
   "codemirror_mode": {
    "name": "ipython",
    "version": 3
   },
   "file_extension": ".py",
   "mimetype": "text/x-python",
   "name": "python",
   "nbconvert_exporter": "python",
   "pygments_lexer": "ipython3",
   "version": "3.10.0"
  },
  "papermill": {
   "default_parameters": {},
   "duration": 8.473476,
   "end_time": "2025-05-07T15:44:35.248657",
   "environment_variables": {},
   "exception": null,
   "input_path": "src/notebooks/lstm_forecast.ipynb",
   "output_path": "output.ipynb",
   "parameters": {
    "date": "2025-05-07",
    "location": "New York"
   },
   "start_time": "2025-05-07T15:44:26.775181",
   "version": "2.6.0"
  }
 },
 "nbformat": 4,
 "nbformat_minor": 5
}