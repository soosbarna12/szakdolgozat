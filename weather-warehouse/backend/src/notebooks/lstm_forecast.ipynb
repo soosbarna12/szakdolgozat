{
 "cells": [
  {
   "cell_type": "code",
   "execution_count": null,
   "id": "2a7c8d22",
   "metadata": {},
   "outputs": [],
   "source": [
    "# Import necessary libraries\n",
    "import sys\n",
    "import os\n",
    "import numpy as np\n",
    "import pandas as pd\n",
    "from tensorflow.keras.models import Sequential\n",
    "from tensorflow.keras.layers import LSTM, Dense\n",
    "import pyodbc\n",
    "from datetime import datetime\n",
    "\n",
    "# Add the backend directory to the Python path\n",
    "sys.path.append(os.path.abspath(os.path.join(os.getcwd(), \"../../\")))\n",
    "\n",
    "# Import the required functions from the backend module\n",
    "from backend.src.services.lstm_forecast import get_historical_data, prepare_data, train_lstm\n",
    "\n",
    "# Function to fetch location and date from the ForecastContext\n",
    "def get_forecast_context():\n",
    "    \"\"\"\n",
    "    Simulate fetching location and date from the ForecastContext.\n",
    "    Replace this with actual integration if needed.\n",
    "    \"\"\"\n",
    "    # Example values (replace with actual context fetching logic)\n",
    "    location_name = \"New York\"\n",
    "    today_date = datetime.now().strftime(\"%Y-%m-%d\")\n",
    "    return location_name, today_date\n",
    "\n",
    "# Main execution\n",
    "if __name__ == \"__main__\":\n",
    "    # Fetch location and date from the ForecastContext\n",
    "    location_name, today_date = get_forecast_context()\n",
    "\n",
    "    # Fetch historical data\n",
    "    print(f\"Fetching historical data for location: {location_name}\")\n",
    "    historical_data = get_historical_data(location_name)\n",
    "\n",
    "    if not historical_data or len(historical_data) < 7:\n",
    "        print(f\"Insufficient historical data for location: {location_name}\")\n",
    "    else:\n",
    "        # Train the LSTM model\n",
    "        print(f\"Training LSTM model for location: {location_name}\")\n",
    "        historical_data = np.array(historical_data)\n",
    "        model, look_back = train_lstm(historical_data)\n",
    "\n",
    "        # Generate forecast\n",
    "        print(f\"Generating forecast for location: {location_name}\")\n",
    "        last_sequence = historical_data[-look_back:].reshape((1, look_back, 1))\n",
    "        forecast = model.predict(last_sequence).flatten().tolist()\n",
    "\n",
    "        print(f\"Forecast for {location_name} on {today_date}: {forecast}\")"
   ]
  }
 ],
 "metadata": {
  "kernelspec": {
   "display_name": "Python 3",
   "language": "python",
   "name": "python3"
  },
  "language_info": {
   "codemirror_mode": {
    "name": "ipython",
    "version": 3
   },
   "file_extension": ".py",
   "mimetype": "text/x-python",
   "name": "python",
   "nbconvert_exporter": "python",
   "pygments_lexer": "ipython3",
   "version": "3.13.2"
  }
 },
 "nbformat": 4,
 "nbformat_minor": 5
}
