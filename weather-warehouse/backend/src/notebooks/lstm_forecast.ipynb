{
 "cells": [
  {
   "cell_type": "code",
   "execution_count": null,
   "id": "2a7c8d22",
   "metadata": {
    "editable": true,
    "slideshow": {
     "slide_type": ""
    },
    "tags": [
     "parameters"
    ]
   },
   "outputs": [
    {
     "name": "stdout",
     "output_type": "stream",
     "text": [
      "Starting forecast process for Location: default_location, Date: 2025-05-08\n"
     ]
    },
    {
     "ename": "ModuleNotFoundError",
     "evalue": "No module named 'pandas'",
     "output_type": "error",
     "traceback": [
      "\u001b[1;31m---------------------------------------------------------------------------\u001b[0m",
      "\u001b[1;31mModuleNotFoundError\u001b[0m                       Traceback (most recent call last)",
      "Cell \u001b[1;32mIn[4], line 12\u001b[0m\n\u001b[0;32m      9\u001b[0m \u001b[38;5;28mprint\u001b[39m(\u001b[38;5;124mf\u001b[39m\u001b[38;5;124m\"\u001b[39m\u001b[38;5;124mStarting forecast process for Location: \u001b[39m\u001b[38;5;132;01m{\u001b[39;00mlocation\u001b[38;5;132;01m}\u001b[39;00m\u001b[38;5;124m, Date: \u001b[39m\u001b[38;5;132;01m{\u001b[39;00mdate\u001b[38;5;132;01m}\u001b[39;00m\u001b[38;5;124m\"\u001b[39m)\n\u001b[0;32m     11\u001b[0m \u001b[38;5;66;03m# Imports\u001b[39;00m\n\u001b[1;32m---> 12\u001b[0m \u001b[38;5;28;01mimport\u001b[39;00m\u001b[38;5;250m \u001b[39m\u001b[38;5;21;01mpandas\u001b[39;00m\u001b[38;5;250m \u001b[39m\u001b[38;5;28;01mas\u001b[39;00m\u001b[38;5;250m \u001b[39m\u001b[38;5;21;01mpd\u001b[39;00m\n\u001b[0;32m     13\u001b[0m \u001b[38;5;28;01mimport\u001b[39;00m\u001b[38;5;250m \u001b[39m\u001b[38;5;21;01mnumpy\u001b[39;00m\u001b[38;5;250m \u001b[39m\u001b[38;5;28;01mas\u001b[39;00m\u001b[38;5;250m \u001b[39m\u001b[38;5;21;01mnp\u001b[39;00m\n\u001b[0;32m     14\u001b[0m \u001b[38;5;28;01mimport\u001b[39;00m\u001b[38;5;250m \u001b[39m\u001b[38;5;21;01mmatplotlib\u001b[39;00m\u001b[38;5;21;01m.\u001b[39;00m\u001b[38;5;21;01mpyplot\u001b[39;00m\u001b[38;5;250m \u001b[39m\u001b[38;5;28;01mas\u001b[39;00m\u001b[38;5;250m \u001b[39m\u001b[38;5;21;01mplt\u001b[39;00m\n",
      "\u001b[1;31mModuleNotFoundError\u001b[0m: No module named 'pandas'"
     ]
    }
   ],
   "source": [
    "# Parameters\n",
    "location = \"default_location\"\n",
    "date = \"2025-05-07\"  # This will be overridden by papermill\n",
    "\n",
    "# Ensure the date is in YYYY-MM-DD format\n",
    "from datetime import datetime\n",
    "date = datetime.today().strftime('%Y-%m-%d')  # Dynamically get today's date in YYYY-MM-DD format\n",
    "\n",
    "print(f\"Starting forecast process for Location: {location}, Date: {date}\")\n",
    "\n",
    "# Imports\n",
    "import pandas as pd\n",
    "import numpy as np\n",
    "import matplotlib.pyplot as plt\n",
    "from tensorflow.keras.models import Sequential\n",
    "from tensorflow.keras.layers import LSTM, Dense, Dropout\n",
    "from sklearn.preprocessing import MinMaxScaler\n",
    "\n",
    "# Step 1: Query historical data\n",
    "def useHistoricalDataQuery(location):\n",
    "    print(f\"Fetching historical data for location: {location}\")\n",
    "    # Replace this with actual database query or API call\n",
    "    dates = pd.date_range(end=date, periods=365)\n",
    "    temps = np.sin(np.linspace(0, 10, 365)) * 10 + 20 + np.random.randn(365)\n",
    "    df = pd.DataFrame({'date': dates, 'temperature': temps})\n",
    "    df.set_index('date', inplace=True)\n",
    "    print(f\"Historical data fetched: {df.head()}\")\n",
    "    return df\n",
    "\n",
    "# Load data\n",
    "data = useHistoricalDataQuery(location)\n",
    "print(f\"Loaded historical data:\\n{data.describe()}\")\n",
    "\n",
    "# Step 2: Preprocess data\n",
    "print(\"Starting data preprocessing...\")\n",
    "scaler = MinMaxScaler()\n",
    "scaled_data = scaler.fit_transform(data[['temperature']])\n",
    "print(f\"Scaled data (first 5 rows):\\n{scaled_data[:5]}\")\n",
    "\n",
    "# Prepare sequences\n",
    "def create_sequences(data, seq_length):\n",
    "    print(f\"Creating sequences with sequence length: {seq_length}\")\n",
    "    x, y = [], []\n",
    "    for i in range(len(data) - seq_length):\n",
    "        x.append(data[i:i+seq_length])\n",
    "        y.append(data[i+seq_length])\n",
    "    print(f\"Created {len(x)} sequences.\")\n",
    "    return np.array(x), np.array(y)\n",
    "\n",
    "seq_length = 30\n",
    "x, y = create_sequences(scaled_data, seq_length)\n",
    "print(f\"Input shape: {x.shape}, Output shape: {y.shape}\")\n",
    "\n",
    "# Reshape for LSTM\n",
    "x = x.reshape((x.shape[0], x.shape[1], 1))\n",
    "print(f\"Reshaped input for LSTM: {x.shape}\")\n",
    "\n",
    "# Step 3: Build LSTM model\n",
    "print(\"Building LSTM model...\")\n",
    "model = Sequential()\n",
    "model.add(LSTM(50, return_sequences=False, input_shape=(seq_length, 1)))\n",
    "model.add(Dropout(0.2))\n",
    "model.add(Dense(1))\n",
    "model.compile(optimizer='adam', loss='mse')\n",
    "print(\"LSTM model built successfully.\")\n",
    "\n",
    "# Step 4: Train model\n",
    "print(\"Training LSTM model...\")\n",
    "model.fit(x, y, epochs=10, batch_size=16, verbose=1)\n",
    "print(\"Model training completed.\")\n",
    "\n",
    "# Step 5: Predict next 7 days\n",
    "print(\"Generating forecast for the next 7 days...\")\n",
    "last_seq = scaled_data[-seq_length:]\n",
    "forecast = []\n",
    "input_seq = last_seq.copy()\n",
    "\n",
    "for i in range(7):\n",
    "    pred = model.predict(input_seq.reshape(1, seq_length, 1))\n",
    "    forecast.append(pred[0, 0])\n",
    "    input_seq = np.append(input_seq[1:], pred).reshape(seq_length, 1)\n",
    "    print(f\"Day {i+1} forecast: {forecast[-1]}\")\n",
    "\n",
    "# Inverse scale\n",
    "forecast = scaler.inverse_transform(np.array(forecast).reshape(-1, 1)).flatten()\n",
    "print(f\"Forecast after inverse scaling: {forecast}\")\n",
    "\n",
    "# Output forecast values\n",
    "forecast_dates = pd.date_range(start=pd.to_datetime(date) + pd.Timedelta(days=1), periods=7)\n",
    "forecast_data = [{\"date\": str(d.date()), \"temperature\": float(f)} for d, f in zip(forecast_dates, forecast)]\n",
    "print(\"Final forecast data:\")\n",
    "for entry in forecast_data:\n",
    "    print(entry)\n",
    "\n",
    "# Explicitly output the forecast data\n",
    "forecast_data"
   ]
  }
 ],
 "metadata": {
  "kernelspec": {
   "display_name": "Python 3",
   "language": "python",
   "name": "python3"
  },
  "language_info": {
   "codemirror_mode": {
    "name": "ipython",
    "version": 3
   },
   "file_extension": ".py",
   "mimetype": "text/x-python",
   "name": "python",
   "nbconvert_exporter": "python",
   "pygments_lexer": "ipython3",
   "version": "3.10.0"
  }
 },
 "nbformat": 4,
 "nbformat_minor": 5
}
