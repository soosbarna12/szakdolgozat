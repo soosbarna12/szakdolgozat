{
 "cells": [
  {
   "cell_type": "code",
   "execution_count": null,
   "id": "2a7c8d22",
   "metadata": {},
   "outputs": [],
   "source": [
    "# Import necessary modules\n",
    "import numpy as np\n",
    "from backend.src.services.lstm_forecast import get_historical_data, prepare_data, train_lstm\n",
    "\n",
    "# Fetch historical data\n",
    "location_name = \"New York\"\n",
    "historical_data = get_historical_data(location_name)\n",
    "\n",
    "# Check data\n",
    "print(\"Historical Data:\", historical_data)\n",
    "\n",
    "# Train LSTM model\n",
    "historical_data = np.array(historical_data)\n",
    "model, look_back = train_lstm(historical_data)\n",
    "\n",
    "# Generate forecast\n",
    "last_sequence = historical_data[-look_back:].reshape((1, look_back, 1))\n",
    "forecast = model.predict(last_sequence).flatten().tolist()\n",
    "\n",
    "print(\"Forecast:\", forecast)"
   ]
  }
 ],
 "metadata": {
  "language_info": {
   "name": "python"
  }
 },
 "nbformat": 4,
 "nbformat_minor": 5
}
