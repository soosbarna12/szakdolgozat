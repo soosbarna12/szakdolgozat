{
 "cells": [
  {
   "cell_type": "code",
   "execution_count": 1,
   "id": "2a7c8d22",
   "metadata": {},
   "outputs": [
    {
     "ename": "ModuleNotFoundError",
     "evalue": "No module named 'backend'",
     "output_type": "error",
     "traceback": [
      "\u001b[31m---------------------------------------------------------------------------\u001b[39m",
      "\u001b[31mModuleNotFoundError\u001b[39m                       Traceback (most recent call last)",
      "\u001b[36mCell\u001b[39m\u001b[36m \u001b[39m\u001b[32mIn[1]\u001b[39m\u001b[32m, line 3\u001b[39m\n\u001b[32m      1\u001b[39m \u001b[38;5;66;03m# Import necessary modules\u001b[39;00m\n\u001b[32m      2\u001b[39m \u001b[38;5;28;01mimport\u001b[39;00m\u001b[38;5;250m \u001b[39m\u001b[34;01mnumpy\u001b[39;00m\u001b[38;5;250m \u001b[39m\u001b[38;5;28;01mas\u001b[39;00m\u001b[38;5;250m \u001b[39m\u001b[34;01mnp\u001b[39;00m\n\u001b[32m----> \u001b[39m\u001b[32m3\u001b[39m \u001b[38;5;28;01mfrom\u001b[39;00m\u001b[38;5;250m \u001b[39m\u001b[34;01mbackend\u001b[39;00m\u001b[34;01m.\u001b[39;00m\u001b[34;01msrc\u001b[39;00m\u001b[34;01m.\u001b[39;00m\u001b[34;01mservices\u001b[39;00m\u001b[34;01m.\u001b[39;00m\u001b[34;01mlstm_forecast\u001b[39;00m\u001b[38;5;250m \u001b[39m\u001b[38;5;28;01mimport\u001b[39;00m get_historical_data, prepare_data, train_lstm\n\u001b[32m      5\u001b[39m \u001b[38;5;66;03m# Fetch historical data\u001b[39;00m\n\u001b[32m      6\u001b[39m location_name = \u001b[33m\"\u001b[39m\u001b[33mNew York\u001b[39m\u001b[33m\"\u001b[39m\n",
      "\u001b[31mModuleNotFoundError\u001b[39m: No module named 'backend'"
     ]
    }
   ],
   "source": [
    "# Import necessary modules\n",
    "import numpy as np\n",
    "from backend.src.services.lstm_forecast import get_historical_data, prepare_data, train_lstm\n",
    "\n",
    "# Fetch historical data\n",
    "location_name = \"New York\"\n",
    "historical_data = get_historical_data(location_name)\n",
    "\n",
    "# Check data\n",
    "print(\"Historical Data:\", historical_data)\n",
    "\n",
    "# Train LSTM model\n",
    "historical_data = np.array(historical_data)\n",
    "model, look_back = train_lstm(historical_data)\n",
    "\n",
    "# Generate forecast\n",
    "last_sequence = historical_data[-look_back:].reshape((1, look_back, 1))\n",
    "forecast = model.predict(last_sequence).flatten().tolist()\n",
    "\n",
    "print(\"Forecast:\", forecast)"
   ]
  },
  {
   "cell_type": "code",
   "execution_count": null,
   "id": "ce8442ff-ad92-4b2a-b7f7-2d8d0f61a5a7",
   "metadata": {},
   "outputs": [],
   "source": []
  }
 ],
 "metadata": {
  "kernelspec": {
   "display_name": "Python 3 (ipykernel)",
   "language": "python",
   "name": "python3"
  },
  "language_info": {
   "codemirror_mode": {
    "name": "ipython",
    "version": 3
   },
   "file_extension": ".py",
   "mimetype": "text/x-python",
   "name": "python",
   "nbconvert_exporter": "python",
   "pygments_lexer": "ipython3",
   "version": "3.13.2"
  }
 },
 "nbformat": 4,
 "nbformat_minor": 5
}
