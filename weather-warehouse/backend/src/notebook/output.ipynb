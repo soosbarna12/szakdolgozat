{
 "cells": [
  {
   "cell_type": "code",
   "execution_count": null,
   "id": "2a7c8d22",
   "metadata": {
    "editable": true,
    "papermill": {
     "duration": null,
     "end_time": null,
     "exception": false,
     "start_time": "2025-05-11T09:14:46.876671",
     "status": "running"
    },
    "scrolled": true,
    "slideshow": {
     "slide_type": ""
    },
    "tags": [
     "parameters"
    ]
   },
   "outputs": [],
   "source": [
    "from datetime import datetime\n",
    "import sys\n",
    "import pandas as pd\n",
    "import numpy as np\n",
    "import matplotlib.pyplot as plt\n",
    "from tensorflow.keras.models import Sequential\n",
    "from tensorflow.keras.layers import Input, LSTM, Dense, Dropout\n",
    "from sklearn.preprocessing import MinMaxScaler\n",
    "import requests\n",
    "\n",
    "\n",
    "\n",
    "# Parameters\n",
    "locationName = \"Tokyo\"\n",
    "locationCountry = \"JP\"\n",
    "\n",
    "url = \"http://localhost:4000/historical/pastHistoricalData\"\n",
    "\n",
    "response = requests.post(url, json={\"location\": {\"name\": locationName, \"country\": locationCountry}}, timeout=120)\n",
    "if response.status_code == 200:\n",
    "    historical = response.json()\n",
    "else:\n",
    "    historical = []\n",
    "\n",
    "\n",
    "if historical:\n",
    "    data = pd.DataFrame(historical)\n",
    "    data['date'] = pd.to_datetime(data['date'])\n",
    "else:\n",
    "    data = pd.DataFrame()\n",
    "\n",
    "features = ['temperature', 'minTemperature', 'maxTemperature', 'precipitation', 'pressure']\n",
    "for col in features:\n",
    "    if col not in data.columns:\n",
    "        data[col] = 0\n",
    "\n",
    "scaler = MinMaxScaler()\n",
    "scaled_data = scaler.fit_transform(data[features])\n",
    "\n",
    "def create_sequences(data, seq_length):\n",
    "    x, y = [], []\n",
    "    for i in range(len(data) - seq_length):\n",
    "        x.append(data[i:i+seq_length])\n",
    "        y.append(data[i+seq_length])\n",
    "    return np.array(x), np.array(y)\n",
    "\n",
    "seq_length = 30\n",
    "x, y = create_sequences(scaled_data, seq_length)\n",
    "\n",
    "x = x.reshape((x.shape[0], x.shape[1], len(features)))\n",
    "\n",
    "model = Sequential()\n",
    "model.add(Input(shape=(seq_length, len(features))))\n",
    "model.add(LSTM(64, return_sequences=True))\n",
    "model.add(Dropout(0.2))\n",
    "model.add(LSTM(32, return_sequences=False))\n",
    "model.add(Dropout(0.2))\n",
    "model.add(Dense(len(features)))\n",
    "model.compile(optimizer='adam', loss='mse')\n",
    "\n",
    "model.fit(x, y, epochs=50, batch_size=16, verbose=1)\n",
    "\n",
    "last_seq = scaled_data[-seq_length:]\n",
    "forecast = []\n",
    "input_seq = last_seq.copy()\n",
    "\n",
    "for i in range(7):\n",
    "    pred = model.predict(input_seq.reshape(1, seq_length, len(features)))\n",
    "    forecast.append(pred[0])\n",
    "    input_seq = np.vstack([input_seq[1:], pred])\n",
    "\n",
    "forecast = scaler.inverse_transform(np.array(forecast))\n",
    "forecast = forecast + np.random.normal(0, 1, size=forecast.shape)  # mean=0, std=1\n",
    "\n",
    "date = pd.Timestamp.today()\n",
    "forecast_dates = pd.date_range(start=date + pd.Timedelta(days=1), periods=7)\n",
    "forecast_data = [\n",
    "    {\n",
    "        \"date\": str(d.date()),\n",
    "        \"temperature\": float(f[0]),\n",
    "        \"minTemperature\": float(f[1]),\n",
    "        \"maxTemperature\": float(f[2]),\n",
    "        \"precipitation\": float(f[3]),\n",
    "        \"pressure\": float(f[4]),\n",
    "    }\n",
    "    for d, f in zip(forecast_dates, forecast)\n",
    "]\n",
    "\n",
    "forecast_data"
   ]
  },
  {
   "cell_type": "code",
   "execution_count": null,
   "id": "cd1c7925",
   "metadata": {
    "papermill": {
     "duration": null,
     "end_time": null,
     "exception": null,
     "start_time": null,
     "status": "pending"
    },
    "tags": [
     "injected-parameters"
    ]
   },
   "outputs": [],
   "source": [
    "# Parameters\n",
    "locationName = \"\"\n",
    "locationCountry = \"undefined\"\n"
   ]
  },
  {
   "cell_type": "code",
   "execution_count": null,
   "id": "dc4d2862-6299-428f-97ee-52d6ce7bc7d9",
   "metadata": {
    "papermill": {
     "duration": null,
     "end_time": null,
     "exception": null,
     "start_time": null,
     "status": "pending"
    },
    "tags": []
   },
   "outputs": [],
   "source": []
  }
 ],
 "metadata": {
  "kernelspec": {
   "display_name": "Python 3 (ipykernel)",
   "language": "python",
   "name": "python3"
  },
  "language_info": {
   "codemirror_mode": {
    "name": "ipython",
    "version": 3
   },
   "file_extension": ".py",
   "mimetype": "text/x-python",
   "name": "python",
   "nbconvert_exporter": "python",
   "pygments_lexer": "ipython3",
   "version": "3.10.0"
  },
  "papermill": {
   "default_parameters": {},
   "duration": null,
   "end_time": null,
   "environment_variables": {},
   "exception": null,
   "input_path": "D:\\Documents\\OE\\Szakdolgozat\\szakdolgozat\\szakdolgozat\\weather-warehouse\\backend\\src\\notebook\\lstm_forecast.ipynb",
   "output_path": "D:\\Documents\\OE\\Szakdolgozat\\szakdolgozat\\szakdolgozat\\weather-warehouse\\backend\\src\\notebook\\output.ipynb",
   "parameters": {
    "locationCountry": "undefined",
    "locationName": ""
   },
   "start_time": "2025-05-11T09:14:45.188712",
   "version": "2.6.0"
  }
 },
 "nbformat": 4,
 "nbformat_minor": 5
}